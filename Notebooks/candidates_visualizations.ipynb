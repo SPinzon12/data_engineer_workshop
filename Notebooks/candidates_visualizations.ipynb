{
 "cells": [
  {
   "cell_type": "markdown",
   "id": "2d1991b6-f395-485f-bf75-3a36c891e968",
   "metadata": {},
   "source": [
    "## Candidates Visualizations"
   ]
  },
  {
   "cell_type": "code",
   "execution_count": 14,
   "id": "cbfe9317-654e-46a6-84b5-0d3f363962ea",
   "metadata": {},
   "outputs": [],
   "source": [
    "import psycopg2\n",
    "import pandas as pd\n",
    "import json"
   ]
  },
  {
   "cell_type": "code",
   "execution_count": 16,
   "id": "13784cb6-b19f-4f20-83dc-57557ed8c8bb",
   "metadata": {},
   "outputs": [],
   "source": [
    "def create_connection():\n",
    "    try:\n",
    "        with open('../db_config.json') as file:\n",
    "            config = json.load(file)\n",
    "        cnx = psycopg2.connect(\n",
    "            host='localhost',\n",
    "            user=config[\"user\"],\n",
    "            password=config[\"password\"],\n",
    "            database=config[\"database\"]\n",
    "        )\n",
    "        print('Conexión exitosa!!')\n",
    "    except psycopg2.Error as e:\n",
    "        cnx = None\n",
    "        print('No se puede conectar:', e)\n",
    "    return cnx\n",
    "    \n",
    "def run_query(sql):\n",
    "    cnx = create_connection()\n",
    "    cur = cnx.cursor()\n",
    "    cur.execute(sql)\n",
    "    rows = cur.fetchall()\n",
    "    columns = [col[0] for col in cur.description]\n",
    "    df = pd.DataFrame(rows)\n",
    "    df.rename(columns=dict(zip(range(len(columns)), columns)), inplace=True)  \n",
    "    cnx.close()\n",
    "    return df"
   ]
  },
  {
   "cell_type": "markdown",
   "id": "e5c8d7ed-b8f6-42af-9564-435586d28b63",
   "metadata": {},
   "source": [
    "## Hires by technology\n"
   ]
  },
  {
   "cell_type": "code",
   "execution_count": 16,
   "id": "f34ec721-67cd-4917-bf2b-51ecd26ccfb2",
   "metadata": {},
   "outputs": [
    {
     "name": "stdout",
     "output_type": "stream",
     "text": [
      "Conexión exitosa!!\n",
      "                            technologystack  count\n",
      "0                 Development - CMS Backend    284\n",
      "1                             Data Engineer    255\n",
      "2                                Salesforce    256\n",
      "3                                     Sales    239\n",
      "4                             QA Automation    243\n",
      "5                                    DevOps    495\n",
      "6                                 QA Manual    259\n",
      "7                     System Administration    293\n",
      "8                   Development - FullStack    254\n",
      "9                   Database Administration    282\n",
      "10                    Business Intelligence    254\n",
      "11               Development - CMS Frontend    251\n",
      "12                         Game Development    519\n",
      "13                      Security Compliance    250\n",
      "14                           Client Success    271\n",
      "15                    Development - Backend    255\n",
      "16                   Development - Frontend    266\n",
      "17                                 Security    266\n",
      "18        Social Media Community Management    237\n",
      "19                                 Mulesoft    260\n",
      "20                        Technical Writing    223\n",
      "21                                   Design    249\n",
      "22                 Adobe Experience Manager    282\n",
      "23  Business Analytics / Project Management    255\n"
     ]
    }
   ],
   "source": [
    "sql='''SELECT  technologystack, count(*)\n",
    "FROM candidates\n",
    "WHERE ishired is True\n",
    "GROUP BY technologystack'''\n",
    "df = run_query(sql)\n",
    "print(df)"
   ]
  },
  {
   "cell_type": "markdown",
   "id": "97cbed3f-d5ba-4442-9ae9-ffb05299e3dd",
   "metadata": {},
   "source": [
    "## Hires by year"
   ]
  },
  {
   "cell_type": "code",
   "execution_count": 15,
   "id": "e904bd01-ef4e-4302-98b3-bdb1a9fa62f4",
   "metadata": {},
   "outputs": [
    {
     "name": "stdout",
     "output_type": "stream",
     "text": [
      "Conexión exitosa!!\n",
      "   year  count\n",
      "0  2021   1485\n",
      "1  2020   1485\n",
      "2  2022    795\n",
      "3  2018   1409\n",
      "4  2019   1524\n"
     ]
    }
   ],
   "source": [
    "sql='''SELECT extract(year from applicationdate) AS year, count(*)\n",
    "FROM candidates\n",
    "WHERE ishired is TRUE\n",
    "GROUP BY year'''\n",
    "df = run_query(sql)\n",
    "print(df)"
   ]
  },
  {
   "cell_type": "markdown",
   "id": "406811bc-b553-4995-8001-a0a254fc18ce",
   "metadata": {},
   "source": [
    "## Hires by seniority"
   ]
  },
  {
   "cell_type": "code",
   "execution_count": 17,
   "id": "0746ac6e-2f53-461f-8824-a5752849e23a",
   "metadata": {},
   "outputs": [
    {
     "name": "stdout",
     "output_type": "stream",
     "text": [
      "Conexión exitosa!!\n",
      "  senioritylevel  count\n",
      "0      Architect    971\n",
      "1         Intern    985\n",
      "2        Trainee    973\n",
      "3         Senior    939\n",
      "4           Lead    929\n",
      "5      Mid-Level    924\n",
      "6         Junior    977\n"
     ]
    }
   ],
   "source": [
    "sql='''SELECT  senioritylevel, count(*)\n",
    "FROM candidates\n",
    "WHERE ishired is True\n",
    "GROUP BY senioritylevel'''\n",
    "df = run_query(sql)\n",
    "print(df)"
   ]
  },
  {
   "cell_type": "markdown",
   "id": "d086d007-38ec-49df-b1c5-ee6da78e60ff",
   "metadata": {},
   "source": [
    "## Hires by country over years (USA, Brazil, Colombia, and Ecuador)"
   ]
  },
  {
   "cell_type": "code",
   "execution_count": 19,
   "id": "4ce69f78-b53e-4b7a-8f0e-1f4994dd8931",
   "metadata": {},
   "outputs": [
    {
     "name": "stdout",
     "output_type": "stream",
     "text": [
      "Conexión exitosa!!\n",
      "    year                   country  hires\n",
      "0   2018                    Brazil      9\n",
      "1   2018                  Colombia      7\n",
      "2   2018                   Ecuador      1\n",
      "3   2018  United States of America      5\n",
      "4   2019                    Brazil      7\n",
      "5   2019                  Colombia      8\n",
      "6   2019                   Ecuador      3\n",
      "7   2019  United States of America      3\n",
      "8   2020                    Brazil      6\n",
      "9   2020                  Colombia      8\n",
      "10  2020                   Ecuador      8\n",
      "11  2020  United States of America      4\n",
      "12  2021                    Brazil      7\n",
      "13  2021                  Colombia      1\n",
      "14  2021                   Ecuador      5\n",
      "15  2021  United States of America      8\n",
      "16  2022                    Brazil      4\n",
      "17  2022                  Colombia      1\n",
      "18  2022                   Ecuador      3\n",
      "19  2022  United States of America      5\n"
     ]
    }
   ],
   "source": [
    "sql='''SELECT EXTRACT(YEAR FROM applicationdate) AS Year, country, COUNT(*) AS Hires\n",
    "FROM Candidates\n",
    "WHERE ishired = TRUE AND country IN ('United States of America', 'Brazil', 'Colombia', 'Ecuador')\n",
    "GROUP BY EXTRACT(YEAR FROM applicationdate), country\n",
    "ORDER BY Year, country;'''\n",
    "df = run_query(sql)\n",
    "print(df)"
   ]
  }
 ],
 "metadata": {
  "kernelspec": {
   "display_name": "Python 3 (ipykernel)",
   "language": "python",
   "name": "python3"
  },
  "language_info": {
   "codemirror_mode": {
    "name": "ipython",
    "version": 3
   },
   "file_extension": ".py",
   "mimetype": "text/x-python",
   "name": "python",
   "nbconvert_exporter": "python",
   "pygments_lexer": "ipython3",
   "version": "3.11.4"
  }
 },
 "nbformat": 4,
 "nbformat_minor": 5
}
